{
 "cells": [
  {
   "cell_type": "code",
   "execution_count": 1,
   "metadata": {},
   "outputs": [
    {
     "name": "stdout",
     "output_type": "stream",
     "text": [
      "     Jenis  Berat (kg)  Daur Ulang\n",
      "0  Plastik           5        True\n",
      "1   Kertas           2        True\n",
      "2    Logam           3        True\n",
      "3     Kaca           4       False\n"
     ]
    }
   ],
   "source": [
    "import pandas as pd\n",
    "\n",
    "data_list = [\n",
    "    ['Plastik', 5, True],\n",
    "    ['Kertas', 2, True],\n",
    "    ['Logam', 3, True],\n",
    "    ['Kaca', 4, False]\n",
    "]\n",
    "\n",
    "df_list = pd.DataFrame(data_list, columns=['Jenis', 'Berat (kg)', 'Daur Ulang']) # Dp_list Tipe Data DAtaFrame Dan Memiliki Columns\n",
    "print(df_list)"
   ]
  },
  {
   "cell_type": "code",
   "execution_count": 4,
   "metadata": {},
   "outputs": [
    {
     "name": "stdout",
     "output_type": "stream",
     "text": [
      "Requirement already satisfied: pandas in c:\\users\\asus\\appdata\\local\\programs\\python\\python313\\lib\\site-packages (2.2.3)\n",
      "Requirement already satisfied: numpy>=1.26.0 in c:\\users\\asus\\appdata\\local\\programs\\python\\python313\\lib\\site-packages (from pandas) (2.1.3)\n",
      "Requirement already satisfied: python-dateutil>=2.8.2 in c:\\users\\asus\\appdata\\local\\programs\\python\\python313\\lib\\site-packages (from pandas) (2.9.0.post0)\n",
      "Requirement already satisfied: pytz>=2020.1 in c:\\users\\asus\\appdata\\local\\programs\\python\\python313\\lib\\site-packages (from pandas) (2024.2)\n",
      "Requirement already satisfied: tzdata>=2022.7 in c:\\users\\asus\\appdata\\local\\programs\\python\\python313\\lib\\site-packages (from pandas) (2024.2)\n",
      "Requirement already satisfied: six>=1.5 in c:\\users\\asus\\appdata\\local\\programs\\python\\python313\\lib\\site-packages (from python-dateutil>=2.8.2->pandas) (1.17.0)\n"
     ]
    }
   ],
   "source": [
    "!pip install pandas"
   ]
  },
  {
   "cell_type": "code",
   "execution_count": 3,
   "metadata": {},
   "outputs": [],
   "source": [
    "df_list.to_csv('coba.csv', index=False) # Mengubah Menjadi CSV"
   ]
  },
  {
   "cell_type": "code",
   "execution_count": null,
   "metadata": {},
   "outputs": [
    {
     "data": {
      "text/plain": [
       "0    Plastik\n",
       "1     Kertas\n",
       "2      Logam\n",
       "3       Kaca\n",
       "Name: Jenis, dtype: object"
      ]
     },
     "execution_count": 4,
     "metadata": {},
     "output_type": "execute_result"
    }
   ],
   "source": [
    "df_list['Jenis'] # Memunculkan Data Yang Ada DI Kolom Jenis"
   ]
  },
  {
   "cell_type": "code",
   "execution_count": 5,
   "metadata": {},
   "outputs": [
    {
     "name": "stdout",
     "output_type": "stream",
     "text": [
      "     Jenis Berat (kg) Daur Ulang\n",
      "0  Plastik          5       True\n",
      "1   Kertas          2       True\n",
      "2    Logam          3       True\n",
      "3     Kaca          4      False\n"
     ]
    }
   ],
   "source": [
    "# Mengubah Data Array Menjadi DataFrame\n",
    "import pandas as pd\n",
    "import numpy as np\n",
    "\n",
    "data_array = np.array([\n",
    "    ['Plastik', 5, True],\n",
    "    ['Kertas', 2, True],\n",
    "    ['Logam', 3, True],\n",
    "    ['Kaca', 4, False]\n",
    "])\n",
    "\n",
    "df_array = pd.DataFrame(data_array, columns=['Jenis', 'Berat (kg)', 'Daur Ulang'])\n",
    "print(df_array)"
   ]
  },
  {
   "cell_type": "code",
   "execution_count": 6,
   "metadata": {},
   "outputs": [],
   "source": [
    "df_array.to_csv('coba.1', index=False) # Mengubah Menjadi CSV"
   ]
  },
  {
   "cell_type": "code",
   "execution_count": 7,
   "metadata": {},
   "outputs": [
    {
     "name": "stdout",
     "output_type": "stream",
     "text": [
      "     Jenis  Berat (kg)  Daur Ulang\n",
      "0  Plastik           5        True\n",
      "1   Kertas           2        True\n",
      "2    Logam           3        True\n",
      "3     Kaca           4       False\n"
     ]
    }
   ],
   "source": [
    "# Mengubah Data Dictionary JAdi DataFrame Key Nya Jadi Kolom Nya\n",
    "import pandas as pd\n",
    "\n",
    "data_kamus = {\n",
    "    'Jenis': ['Plastik', 'Kertas', 'Logam', 'Kaca'],\n",
    "    'Berat (kg)': [5, 2, 3, 4],\n",
    "    'Daur Ulang': [True, True, True, False]\n",
    "}\n",
    "\n",
    "df_kamus = pd.DataFrame(data_kamus)\n",
    "print(df_kamus)"
   ]
  },
  {
   "cell_type": "code",
   "execution_count": null,
   "metadata": {},
   "outputs": [
    {
     "name": "stdout",
     "output_type": "stream",
     "text": [
      "Jenis         Plastik\n",
      "Berat (kg)          5\n",
      "Daur Ulang       True\n",
      "Name: 0, dtype: object\n"
     ]
    }
   ],
   "source": [
    "# Mengakses Data Dalam Baris Ke Baris Ke 0 Pakai loc Mengakses Baris Berdasar Labelnya Kalau Iloc Yang Dipanggil Indeks Nya\n",
    "print(df_array.loc[0])"
   ]
  },
  {
   "cell_type": "code",
   "execution_count": null,
   "metadata": {},
   "outputs": [
    {
     "name": "stdout",
     "output_type": "stream",
     "text": [
      "0    Plastik\n",
      "1     Kertas\n",
      "2      Logam\n",
      "3       Kaca\n",
      "Name: Jenis, dtype: object\n"
     ]
    }
   ],
   "source": [
    "# Mengakses Baris Pertama Baris Ke 0 Pakai loc Mengakses Baris Berdasar Labelnya Kalau Iloc Yang Dipanggil Indeks Nya\n",
    "print(df_array.loc[:, 'Jenis'])  # :, Mengakses Kolom Di Jenis ,:Mengakses Baris"
   ]
  },
  {
   "cell_type": "code",
   "execution_count": 11,
   "metadata": {},
   "outputs": [
    {
     "name": "stdout",
     "output_type": "stream",
     "text": [
      "Logam\n"
     ]
    }
   ],
   "source": [
    "# Mengakses Baris Pertama Baris Ke 0 Pakai loc Mengakses Baris Berdasar Labelnya Kalau Iloc Yang Dipanggil Indeks Nya\n",
    "print(df_array.loc[2, 'Jenis'])  # :, Mengakses Kolom Di Jenis ,:Mengakses Baris"
   ]
  },
  {
   "cell_type": "code",
   "execution_count": 14,
   "metadata": {},
   "outputs": [
    {
     "name": "stdout",
     "output_type": "stream",
     "text": [
      "0    Plastik\n",
      "1     Kertas\n",
      "2      Logam\n",
      "3       Kaca\n",
      "Name: Jenis, dtype: object\n"
     ]
    }
   ],
   "source": [
    "# Iloc Mengakses Berdasar Indeks Ke 0\n",
    "print(df_array.iloc[:, 0])  # :, Mengakses Kolom Di Jenis ,:Mengakses Baris"
   ]
  },
  {
   "cell_type": "code",
   "execution_count": null,
   "metadata": {},
   "outputs": [
    {
     "name": "stdout",
     "output_type": "stream",
     "text": [
      "Jenis          Kaca\n",
      "Berat (kg)        4\n",
      "Daur Ulang    False\n",
      "Name: 3, dtype: object\n"
     ]
    }
   ],
   "source": [
    "# Iloc Mengakses Berdasar Indeks -1 Mengakses Data Paling Akhir  lod = location iloc= Index Location\n",
    "print(df_array.iloc[-1])  # :, Mengakses Kolom Di Jenis ,:Mengakses Baris"
   ]
  },
  {
   "cell_type": "code",
   "execution_count": 19,
   "metadata": {},
   "outputs": [
    {
     "data": {
      "text/html": [
       "<div>\n",
       "<style scoped>\n",
       "    .dataframe tbody tr th:only-of-type {\n",
       "        vertical-align: middle;\n",
       "    }\n",
       "\n",
       "    .dataframe tbody tr th {\n",
       "        vertical-align: top;\n",
       "    }\n",
       "\n",
       "    .dataframe thead th {\n",
       "        text-align: right;\n",
       "    }\n",
       "</style>\n",
       "<table border=\"1\" class=\"dataframe\">\n",
       "  <thead>\n",
       "    <tr style=\"text-align: right;\">\n",
       "      <th></th>\n",
       "      <th>Jenis</th>\n",
       "      <th>Berat (kg)</th>\n",
       "      <th>Daur Ulang</th>\n",
       "    </tr>\n",
       "  </thead>\n",
       "  <tbody>\n",
       "    <tr>\n",
       "      <th>0</th>\n",
       "      <td>Plastik</td>\n",
       "      <td>5</td>\n",
       "      <td>True</td>\n",
       "    </tr>\n",
       "    <tr>\n",
       "      <th>1</th>\n",
       "      <td>Kertas</td>\n",
       "      <td>2</td>\n",
       "      <td>True</td>\n",
       "    </tr>\n",
       "    <tr>\n",
       "      <th>2</th>\n",
       "      <td>Logam</td>\n",
       "      <td>3</td>\n",
       "      <td>True</td>\n",
       "    </tr>\n",
       "    <tr>\n",
       "      <th>3</th>\n",
       "      <td>Kaca</td>\n",
       "      <td>4</td>\n",
       "      <td>False</td>\n",
       "    </tr>\n",
       "  </tbody>\n",
       "</table>\n",
       "</div>"
      ],
      "text/plain": [
       "     Jenis Berat (kg) Daur Ulang\n",
       "0  Plastik          5       True\n",
       "1   Kertas          2       True\n",
       "2    Logam          3       True\n",
       "3     Kaca          4      False"
      ]
     },
     "execution_count": 19,
     "metadata": {},
     "output_type": "execute_result"
    }
   ],
   "source": [
    "df_array"
   ]
  },
  {
   "cell_type": "code",
   "execution_count": null,
   "metadata": {},
   "outputs": [
    {
     "name": "stdout",
     "output_type": "stream",
     "text": [
      "     Jenis Berat (kg) Daur Ulang\n",
      "0  Plastik          5       True\n",
      "1   Kertas          2       True\n",
      "2    Logam          3       True\n"
     ]
    }
   ],
   "source": [
    "# Mengakses Baris Dari Index 0 Sampai n-1, Kolom 0 sampai n-1\n",
    "print(df_array.iloc[0:3, 0:3])"
   ]
  },
  {
   "cell_type": "code",
   "execution_count": 17,
   "metadata": {},
   "outputs": [
    {
     "name": "stdout",
     "output_type": "stream",
     "text": [
      "     Nama  Usia\n",
      "0    Doni    25\n",
      "1    Reno    31\n",
      "2  Jhonny    32\n"
     ]
    }
   ],
   "source": [
    "# Mengubah DataFrame Menjadi DataFrame\n",
    "import pandas as pd\n",
    "\n",
    "nama = pd. Series (['Doni', 'Reno', 'Jhonny'])\n",
    "usia = pd. Series ([25, 31, 32])\n",
    "\n",
    "df = pd. DataFrame ({ 'Nama':nama, 'Usia':usia})\n",
    "\n",
    "print(df)"
   ]
  },
  {
   "cell_type": "code",
   "execution_count": 26,
   "metadata": {},
   "outputs": [
    {
     "name": "stdout",
     "output_type": "stream",
     "text": [
      "True\n",
      "True\n",
      "True\n",
      "False\n"
     ]
    }
   ],
   "source": [
    "# Perulangan\n",
    "import pandas as pd\n",
    "\n",
    "data_dict = {\n",
    "    'Jenis': ['Plastik', 'Kertas', 'Logam', 'Kaca'],\n",
    "    'Berat (kg)': [5, 2, 3, 4],\n",
    "    'Daur Ulang': [True, True, True, False]\n",
    "}\n",
    "\n",
    "df_dict = pd.DataFrame(data_dict)\n",
    "# Menggunakan itterows untuk menginterasi DataFrame BAris Per baris\n",
    "for index, row in df_dict.iterrows():\n",
    "    print(f\"{row['Daur Ulang']}\") "
   ]
  },
  {
   "cell_type": "code",
   "execution_count": 33,
   "metadata": {},
   "outputs": [
    {
     "ename": "IndentationError",
     "evalue": "expected an indented block after 'if' statement on line 4 (1214548259.py, line 5)",
     "output_type": "error",
     "traceback": [
      "\u001b[1;36m  Cell \u001b[1;32mIn[33], line 5\u001b[1;36m\u001b[0m\n\u001b[1;33m    print(f\"Jenis: {row['Jenis']}, Berat: {row['Berat (kg)']} kg, DaurUlang: {row['Daur Ulang']}\")\u001b[0m\n\u001b[1;37m    ^\u001b[0m\n\u001b[1;31mIndentationError\u001b[0m\u001b[1;31m:\u001b[0m expected an indented block after 'if' statement on line 4\n"
     ]
    }
   ],
   "source": [
    "# Menggunakan itterows untuk menginterasi DataFrame BAris Per baris\n",
    "for index, row in df_dict.iterrows():\n",
    "    a = row['Daur Ulang']\n",
    "    if a == True:\n",
    "    print(f\"Jenis: {row['Jenis']}, Berat: {row['Berat (kg)']} kg, DaurUlang: {row['Daur Ulang']}\") "
   ]
  },
  {
   "cell_type": "code",
   "execution_count": 28,
   "metadata": {},
   "outputs": [
    {
     "name": "stdout",
     "output_type": "stream",
     "text": [
      "     Jenis  Berat (kg)  Daur Ulang\n",
      "0  Plastik           5        True\n",
      "1   Kertas           2        True\n",
      "2    Logam           3        True\n"
     ]
    }
   ],
   "source": [
    "# Menggunakan itterows untuk menginterasi DataFrame BAris Per baris\n",
    "daur_ulannd_df = df_dict[df_dict['Daur Ulang'] == True]\n",
    "print(daur_ulannd_df) "
   ]
  },
  {
   "cell_type": "code",
   "execution_count": null,
   "metadata": {},
   "outputs": [],
   "source": [
    "# Melakukan Operasi Aritmatika DI DataFrame Secara Langsung\n",
    "\n",
    "# Contoh DataFrame"
   ]
  },
  {
   "cell_type": "code",
   "execution_count": null,
   "metadata": {},
   "outputs": [
    {
     "data": {
      "text/html": [
       "<div>\n",
       "<style scoped>\n",
       "    .dataframe tbody tr th:only-of-type {\n",
       "        vertical-align: middle;\n",
       "    }\n",
       "\n",
       "    .dataframe tbody tr th {\n",
       "        vertical-align: top;\n",
       "    }\n",
       "\n",
       "    .dataframe thead th {\n",
       "        text-align: right;\n",
       "    }\n",
       "</style>\n",
       "<table border=\"1\" class=\"dataframe\">\n",
       "  <thead>\n",
       "    <tr style=\"text-align: right;\">\n",
       "      <th></th>\n",
       "      <th>Jenis</th>\n",
       "      <th>Berat (kg)</th>\n",
       "      <th>Daur Ulang</th>\n",
       "    </tr>\n",
       "  </thead>\n",
       "  <tbody>\n",
       "    <tr>\n",
       "      <th>0</th>\n",
       "      <td>Plastik</td>\n",
       "      <td>5</td>\n",
       "      <td>True</td>\n",
       "    </tr>\n",
       "    <tr>\n",
       "      <th>1</th>\n",
       "      <td>Kertas</td>\n",
       "      <td>2</td>\n",
       "      <td>True</td>\n",
       "    </tr>\n",
       "    <tr>\n",
       "      <th>2</th>\n",
       "      <td>Logam</td>\n",
       "      <td>3</td>\n",
       "      <td>True</td>\n",
       "    </tr>\n",
       "    <tr>\n",
       "      <th>3</th>\n",
       "      <td>Kaca</td>\n",
       "      <td>4</td>\n",
       "      <td>False</td>\n",
       "    </tr>\n",
       "  </tbody>\n",
       "</table>\n",
       "</div>"
      ],
      "text/plain": [
       "     Jenis  Berat (kg)  Daur Ulang\n",
       "0  Plastik           5        True\n",
       "1   Kertas           2        True\n",
       "2    Logam           3        True\n",
       "3     Kaca           4       False"
      ]
     },
     "execution_count": 34,
     "metadata": {},
     "output_type": "execute_result"
    }
   ],
   "source": [
    "# Baca Data CSV Jadi DataFrame\n",
    "import pandas as pd\n",
    "\n",
    "df_csv = pd.read_csv('coba.csv')\n",
    "\n",
    "df_csv"
   ]
  },
  {
   "cell_type": "code",
   "execution_count": null,
   "metadata": {},
   "outputs": [],
   "source": [
    "# Baca Data Excel Pyhton Tidak Bisa Baca Adata Excel Secara Langsung HArus Pakai Library Menjadi DataFrame \n",
    "\n",
    "import pandas as pd\n",
    "\n",
    "df_excel = pd.read_excel('Nama File', sheet_name='Nama Sheet')\n",
    "df_excel"
   ]
  }
 ],
 "metadata": {
  "kernelspec": {
   "display_name": "Python 3",
   "language": "python",
   "name": "python3"
  },
  "language_info": {
   "codemirror_mode": {
    "name": "ipython",
    "version": 3
   },
   "file_extension": ".py",
   "mimetype": "text/x-python",
   "name": "python",
   "nbconvert_exporter": "python",
   "pygments_lexer": "ipython3",
   "version": "3.13.1"
  }
 },
 "nbformat": 4,
 "nbformat_minor": 2
}
